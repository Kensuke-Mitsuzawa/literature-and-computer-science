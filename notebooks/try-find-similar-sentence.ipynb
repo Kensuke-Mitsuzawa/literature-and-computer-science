{
 "cells": [
  {
   "cell_type": "markdown",
   "metadata": {},
   "source": [
    "# 類似文獲得アプローチ検証ノート\n",
    "\n",
    "文単位で類似文を獲得するアプローチが、果たして考察に役にたつのか？ということを考える。\n",
    "そのために文単位で類似文を探索する。文書単位ではなく、文単位である。"
   ]
  },
  {
   "cell_type": "code",
   "execution_count": 1,
   "metadata": {},
   "outputs": [],
   "source": [
    "import jellyfish\n",
    "import json\n",
    "import itertools\n",
    "from typing import List, Dict, Tuple\n",
    "from joblib import Parallel, delayed"
   ]
  },
  {
   "cell_type": "code",
   "execution_count": 2,
   "metadata": {},
   "outputs": [],
   "source": [
    "path_resource_json = \"../resources/cleaned_text.json\"\n",
    "seq_original_document = json.loads(open(path_resource_json, \"r\").read())"
   ]
  },
  {
   "cell_type": "code",
   "execution_count": 3,
   "metadata": {
    "code_folding": []
   },
   "outputs": [],
   "source": [
    "def split_into_sentence(document_obj: str)->List[Tuple[str, str]]:\n",
    "    \"\"\"１作品の文書を句点で区切って、文単位とする。\n",
    "    作品の出展を残しておくために、タイトル情報も残して返す。\n",
    "    \n",
    "    * Return\n",
    "    - - -\n",
    "    - list\n",
    "        - [ {\"title\": str, \"sentence\": str} ]\n",
    "    \"\"\"\n",
    "    return [(document_obj[\"title\"], doc) for doc in document_obj[\"body\"].split(\"。\")]\n",
    "\n",
    "\n",
    "def get_similarity(pair_input_sentence: Tuple[Tuple[str, str], Tuple[str, str]], func_get_similarity)->Tuple[Tuple[str,str],Tuple[str,str],float]:\n",
    "    \"\"\"類似度関数をラップするための関数\n",
    "    \n",
    "    * Parameters\n",
    "    - - -\n",
    "    - func_get_similarity: function\n",
    "        - function(a, b)を引数にとり、類似度(float)を返す関数\n",
    "    \"\"\"\n",
    "    similarity_score = func_get_similarity(pair_input_sentence[0][1], pair_input_sentence[1][1])\n",
    "    return pair_input_sentence[0], pair_input_sentence[1], similarity_score\n",
    "\n",
    "\n",
    "def multi_process(sentence_pair_list: List[Tuple[Tuple[str, str], Tuple[str, str]]], func_get_similarity) -> List[Tuple[Tuple[str,str],Tuple[str,str],float]]:\n",
    "    \"\"\"\n",
    "    文類似度をマルチプロセス(joblib)で計算\n",
    "    \n",
    "    * Parameters\n",
    "    - - -\n",
    "    - sentence_pair_list: list\n",
    "        - [ ( (title-a, sentence-a), (title-b, sentence-b) ) ]\n",
    "    - func_get_similarity: function\n",
    "        - function(a, b)を引数にとり、類似度(float)を返す関数\n",
    "    \"\"\"\n",
    "    return Parallel(n_jobs=-1)([delayed(get_similarity)(sent_pair) for sent_pair in sentence_pair_list])\n"
   ]
  },
  {
   "cell_type": "code",
   "execution_count": 8,
   "metadata": {},
   "outputs": [
    {
     "data": {
      "text/plain": [
       "10249"
      ]
     },
     "execution_count": 8,
     "metadata": {},
     "output_type": "execute_result"
    }
   ],
   "source": [
    "seq_sentence_obj = list(itertools.chain.from_iterable([split_into_sentence(original_doc) for original_doc in seq_original_document]))\n",
    "len(seq_sentence_obj)"
   ]
  },
  {
   "cell_type": "code",
   "execution_count": 10,
   "metadata": {},
   "outputs": [
    {
     "data": {
      "text/plain": [
       "[('南島譚 幸福', '昔、此の島に一人の極めて哀れな男がいた'),\n",
       " ('南島譚 幸福', '年齢を数えるという不自然な習慣が此の辺には無いので、幾歳ということはハッキリ言えないが、余り若くないことだけは確かであった'),\n",
       " ('南島譚 幸福', '髪の毛が余り縮れてもおらず、鼻の頭がすっかり潰れてもおらぬので、此の男の醜貌は衆人の顰笑の的となっていた'),\n",
       " ('南島譚 幸福', 'おまけに脣が薄く、顔色にも見事な黒檀の様な艶が無いことは、此の男の醜さを一層甚だしいものにしていた'),\n",
       " ('南島譚 幸福', '此の男は、恐らく、島一番の貧乏人であったろう'),\n",
       " ('南島譚 幸福', 'ウドウドと称する勾玉の様なものがパラオ地方の貨幣であり、宝であるが、勿論、此の男はウドウドなど一つも持ってはいない'),\n",
       " ('南島譚 幸福', 'ウドウドも持っていない位だから、之によって始めて購うことの出来る妻をもてる訳がない'),\n",
       " ('南島譚 幸福', 'たった独りで、島の第一長老の家の物置小舎の片隅に住み、最も卑しい召使として仕えている'),\n",
       " ('南島譚 幸福', '家中のあらゆる卑しい勤めが、此の男一人の上に負わされる'),\n",
       " ('南島譚 幸福', '怠け者の揃った此の島の中で、此の男一人は怠ける暇が無い'),\n",
       " ('南島譚 幸福', '朝はマンゴーの繁みに囀る朝鳥よりも早く起きて漁に出掛ける'),\n",
       " ('南島譚 幸福', '手槍で大蛸を突き損って胸や腹に吸い付かれ、身体中腫れ上ることもある'),\n",
       " ('南島譚 幸福', '巨魚タマカイに追われて生命からがら独木舟に逃げ上ることもある'),\n",
       " ('南島譚 幸福', '盥ほどもある車渠貝に足を挟まれ損ったこともある'),\n",
       " ('南島譚 幸福',\n",
       "  '午になり、島中の誰彼が木蔭や家の中の竹床の上でうつらうつら午睡をとる時も、此の男ばかりは、家内の清掃に、小舎の建築に、椰子蜜採りに、椰子縄綯いに、屋根葺きに、家具類の製作に、目が廻る程忙しい'),\n",
       " ('南島譚 幸福', '此の男の皮膚はスコールの後の野鼠の様に絶えず汗でびっしょり濡れている'),\n",
       " ('南島譚 幸福', '昔から女の仕事と極められている芋田の手入の外は、何から何迄此の男が一人で働く'),\n",
       " ('南島譚 幸福',\n",
       "  '陽が西の海に入って、麺麭の大樹の梢に大蝙蝠が飛び廻る頃になって、漸く此の男は、犬猫にあてがわれるようなクカオ芋の尻尾と魚のあらとにありつく'),\n",
       " ('南島譚 幸福', 'それから、疲れ果てた身体を固い竹の床の上に横たえて眠る――パラオ語でいえばモ・バズ、即ち石になるのである'),\n",
       " ('南島譚 幸福', '\\n彼の主人たる此の島の第一長老はパラオ地方――北は此の島から南は遠くペリリュウ島に至る――を通じて指折の物持ちである'),\n",
       " ('南島譚 幸福', '此の島の芋田の半分、椰子林の三分の二は此の男のものに属する'),\n",
       " ('南島譚 幸福', '彼の家の台所には、極上鼈甲製の皿が天井迄高く積上げられている'),\n",
       " ('南島譚 幸福',\n",
       "  '彼は毎日海亀の脂や石焼の仔豚や人魚の胎児や蝙蝠の仔の蒸焼などの美食に※いているので、彼の腹は脂ぎって孕み豚の如くにふくらんでいる'),\n",
       " ('南島譚 幸福', '彼の家には、昔その祖先の一人がカヤンガル島を討った時敵の大将を唯の一突きに仕留めたという誉れの投槍が蔵されている'),\n",
       " ('南島譚 幸福', '彼の所有する珠貨は、玳瑁が浜辺で一度に産みつける卵の数ほど多い'),\n",
       " ('南島譚 幸福', 'その中で一番貴いバカル珠に至っては、環礁の外に跳梁する鋸鮫でさえ、一目見て驚怖退散する程の威力を備えている'),\n",
       " ('南島譚 幸福',\n",
       "  '今、島の中央に巍然として屹立する・蝙蝠模様で飾られた・反り屋根の大集会場を造ったのも、島民一同の自慢の種子である蛇頭の真赤な大戦舟を作ったのも、凡て此の大支配者の権勢と金力とである'),\n",
       " ('南島譚 幸福', '彼の妻は表向きは一人だが、近親相姦禁忌の許す範囲に於いて、実際は其の数は無限といってよい'),\n",
       " ('南島譚 幸福',\n",
       "  '\\n此の大権力者の下僕たる・哀れな醜い独り者は、身分が卑しいので、直接の主人たる此の第一長老は固より、第二第三第四ルバックの前を通る時でも、立って歩くことは許されなかった'),\n",
       " ('南島譚 幸福', '必ず匍匐膝行して過ぎなければならないのである'),\n",
       " ('南島譚 幸福', 'もし、独木舟に乗って海に出ている時に長老の舟が近付こうものなら、賤しき男は独木舟の上から水中に跳び込まねばならぬ'),\n",
       " ('南島譚 幸福', '舟の上から挨拶する如き無礼は絶対に許されない'),\n",
       " ('南島譚 幸福', '或る時そうした場合にぶつかり、彼が謹しんで水中に飛び込もうとすると、一匹の鱶の姿が目に入った'),\n",
       " ('南島譚 幸福', '彼が躊躇するのを見た長老の従者が、怒って棒切を投げつけ、彼の左の目を傷けた'),\n",
       " ('南島譚 幸福', '已むを得ず、彼は鱶の泳いでいる水の中に跳び込んだ'),\n",
       " ('南島譚 幸福', '其の鱶がもう三尺大きい奴だったら、彼は、足の指を三本喰切られただけでは済まなかったに違いない'),\n",
       " ('南島譚 幸福', '\\n此の島から遥か南方に離れた文化の中心地コロール島には、既に、皮膚の白い人間共が伝えたという悪い病が侵入して来ていた'),\n",
       " ('南島譚 幸福', 'その病には二つある'),\n",
       " ('南島譚 幸福',\n",
       "  '一つは、神聖な天与の秘事を妨げる怪しからぬ病であって、コロールでは男が之にかかる時は男の病と呼ばれ、女がなる場合は女の病といわれる'),\n",
       " ('南島譚 幸福',\n",
       "  'もう一つの方は、極めて微妙な・徴候の容易に認め難い病気であって、軽い咳が出、顔色が蒼ざめ、身体が疲れ、痩せ衰えて何時の間にか死ぬのである'),\n",
       " ('南島譚 幸福', '血を喀くこともあれば、喀かないこともある'),\n",
       " ('南島譚 幸福', '此の話の主人公たる哀れな男は、どうやら、此の後の方の病気にかかっていたらしい'),\n",
       " ('南島譚 幸福', '絶えず空咳をし、疲れる'),\n",
       " ('南島譚 幸福', 'アミアカ樹の芽をすり潰して其の汁を飲んでも、蛸樹の根を煎じて飲んでも、一向に効き目が無い'),\n",
       " ('南島譚 幸福', '彼の主人は之に気が付き、哀れな下男が哀れな病気になったことを大変ふさわしいと考えた'),\n",
       " ('南島譚 幸福', 'それで、此の下男の仕事は益々ふえた'),\n",
       " ('南島譚 幸福', '\\n哀れな下男は、しかし、大変賢い人間だったので、己が運命を格別辛いとは思わなかった'),\n",
       " ('南島譚 幸福', '己の主人が如何に苛刻であっても、尚、自分に、視ることや聴くことや呼吸すること迄禁じないから有難いと思っていた'),\n",
       " ('南島譚 幸福', '自分に課せられる仕事が如何に多くとも、なお婦人の神聖な天職たる芋田耕作だけは除外されていることを有難く思おうと考えた'),\n",
       " ('南島譚 幸福', '鱶のいる海に跳び込んで足の指三本を失ったことは不幸のようだが、それでも脚全体を喰切られなかったことを感謝しよう')]"
      ]
     },
     "execution_count": 10,
     "metadata": {},
     "output_type": "execute_result"
    }
   ],
   "source": [
    "# これでペアを作ると恐ろしいことになるので、方策を考える。まずは文長で制御することを考えてみる #\n",
    "seq_sentence_obj[:50]"
   ]
  },
  {
   "cell_type": "code",
   "execution_count": null,
   "metadata": {},
   "outputs": [],
   "source": [
    "# 2つ組のペアを作成する\n",
    "#_seq_pair_input_doc = itertools.combinations(seq_sentence_obj, 2)\n",
    "#  同じ作品のペアは排除する\n",
    "#seq_pair_input_doc = [t_pair_title_sentence for t_pair_title_sentence in _seq_pair_input_doc if not t_pair_title_sentence[0][0] == t_pair_title_sentence[1][0]]"
   ]
  },
  {
   "cell_type": "code",
   "execution_count": null,
   "metadata": {},
   "outputs": [],
   "source": [
    "#seq_result_similarity_jaro_distance = multi_process(seq_pair_input_doc, jellyfish.jaro_distance)"
   ]
  },
  {
   "cell_type": "code",
   "execution_count": null,
   "metadata": {},
   "outputs": [],
   "source": [
    "#len(seq_pair_input_doc)"
   ]
  }
 ],
 "metadata": {
  "anaconda-cloud": {},
  "hide_input": false,
  "kernelspec": {
   "display_name": "Python [conda root]",
   "language": "python",
   "name": "conda-root-py"
  },
  "language_info": {
   "codemirror_mode": {
    "name": "ipython",
    "version": 3
   },
   "file_extension": ".py",
   "mimetype": "text/x-python",
   "name": "python",
   "nbconvert_exporter": "python",
   "pygments_lexer": "ipython3",
   "version": "3.5.2"
  },
  "toc": {
   "nav_menu": {},
   "number_sections": true,
   "sideBar": true,
   "skip_h1_title": false,
   "toc_cell": false,
   "toc_position": {},
   "toc_section_display": "block",
   "toc_window_display": false
  },
  "varInspector": {
   "cols": {
    "lenName": 16,
    "lenType": 16,
    "lenVar": 40
   },
   "kernels_config": {
    "python": {
     "delete_cmd_postfix": "",
     "delete_cmd_prefix": "del ",
     "library": "var_list.py",
     "varRefreshCmd": "print(var_dic_list())"
    },
    "r": {
     "delete_cmd_postfix": ") ",
     "delete_cmd_prefix": "rm(",
     "library": "var_list.r",
     "varRefreshCmd": "cat(var_dic_list()) "
    }
   },
   "types_to_exclude": [
    "module",
    "function",
    "builtin_function_or_method",
    "instance",
    "_Feature"
   ],
   "window_display": false
  }
 },
 "nbformat": 4,
 "nbformat_minor": 1
}
